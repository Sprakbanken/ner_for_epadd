{
 "cells": [
  {
   "cell_type": "code",
   "execution_count": null,
   "metadata": {},
   "outputs": [
    {
     "ename": "",
     "evalue": "",
     "output_type": "error",
     "traceback": [
      "\u001b[1;31mThe kernel failed to start as the Python Environment 'Python 3.10.12' is no longer available. Consider selecting another kernel or refreshing the list of Python Environments."
     ]
    }
   ],
   "source": [
    "from mailbox import mbox\n",
    "from transformers import pipeline\n",
    "from utils import get_entity_books, get_text_messages, write_entity_books, get_content_dataset\n",
    "\n",
    "\n",
    "pipe = pipeline(\"token-classification\", model=\"saattrupdan/nbailab-base-ner-scandi\", aggregation_strategy='first')\n",
    "\n",
    "box = mbox(\"epost/Sv_Taleopptak_fra_DSS.mbox\", create=False)"
   ]
  },
  {
   "cell_type": "code",
   "execution_count": null,
   "metadata": {},
   "outputs": [
    {
     "ename": "",
     "evalue": "",
     "output_type": "error",
     "traceback": [
      "\u001b[1;31mThe kernel failed to start as the Python Environment 'Python 3.10.12' is no longer available. Consider selecting another kernel or refreshing the list of Python Environments."
     ]
    }
   ],
   "source": [
    "from tqdm import tqdm\n",
    "\n",
    "content_dataset = get_content_dataset(box=box)\n",
    "\n",
    "exception_indices = []\n",
    "try:\n",
    "    res = [e for e in tqdm(pipe(content_dataset))]\n",
    "except Exception as ex:\n",
    "    print(ex)\n",
    "    res = []\n",
    "    for i, e in tqdm(enumerate(content_dataset), total=len(content_dataset)):\n",
    "        try: \n",
    "            pipe(e)\n",
    "            res.append(e)\n",
    "        except Exception as ex:\n",
    "            exception_indices.append(i)\n",
    "\n",
    "if exception_indices:\n",
    "    messages = get_text_messages(box)\n",
    "    bad_messages = [messages[i] for i in exception_indices]\n",
    "    for msg in bad_messages:\n",
    "        content = msg._payload\n",
    "        headers = dict(msg._headers)\n",
    "        print(headers)\n",
    "        "
   ]
  },
  {
   "cell_type": "code",
   "execution_count": null,
   "metadata": {},
   "outputs": [
    {
     "ename": "",
     "evalue": "",
     "output_type": "error",
     "traceback": [
      "\u001b[1;31mThe kernel failed to start as the Python Environment 'Python 3.10.12' is no longer available. Consider selecting another kernel or refreshing the list of Python Environments."
     ]
    }
   ],
   "source": [
    "from pathlib import Path       \n",
    "\n",
    "category_directory_map = {\n",
    "    \"PER\": \"Person\",\n",
    "    \"LOC\": \"Place\",\n",
    "    \"ORG\": \"Organisation\",\n",
    "    \"MISC\": \"Other\"\n",
    "}\n",
    "\n",
    "labels = {e.split(\"-\")[1] for e in pipe.model.config.label2id if \"-\" in e}\n",
    "labels\n",
    "\n",
    "for e in labels:\n",
    "    category_directory_map[e]"
   ]
  },
  {
   "cell_type": "code",
   "execution_count": null,
   "metadata": {},
   "outputs": [
    {
     "ename": "",
     "evalue": "",
     "output_type": "error",
     "traceback": [
      "\u001b[1;31mThe kernel failed to start as the Python Environment 'Python 3.10.12' is no longer available. Consider selecting another kernel or refreshing the list of Python Environments."
     ]
    }
   ],
   "source": [
    "len([x for e in res for x in e])"
   ]
  },
  {
   "cell_type": "code",
   "execution_count": null,
   "metadata": {},
   "outputs": [
    {
     "ename": "",
     "evalue": "",
     "output_type": "error",
     "traceback": [
      "\u001b[1;31mThe kernel failed to start as the Python Environment 'Python 3.10.12' is no longer available. Consider selecting another kernel or refreshing the list of Python Environments."
     ]
    }
   ],
   "source": [
    "entity_books = get_entity_books(Path(\"/home/tita/epadd-appraisal/user/data/sessions/EntityBooks\"), sub_dirs=category_directory_map.values())\n",
    "print([(k, len(v)) for k,v in entity_books.items()])\n",
    "print([(k, len(set(v))) for k,v in entity_books.items()])\n"
   ]
  },
  {
   "cell_type": "code",
   "execution_count": null,
   "metadata": {},
   "outputs": [
    {
     "ename": "",
     "evalue": "",
     "output_type": "error",
     "traceback": [
      "\u001b[1;31mThe kernel failed to start as the Python Environment 'Python 3.10.12' is no longer available. Consider selecting another kernel or refreshing the list of Python Environments."
     ]
    }
   ],
   "source": [
    "threshold = 0.8\n",
    "ents = {(e[\"word\"], e[\"entity_group\"]) for ent_list in res for e in ent_list if e[\"score\"] > threshold}\n",
    "len(ents)"
   ]
  },
  {
   "cell_type": "code",
   "execution_count": null,
   "metadata": {},
   "outputs": [
    {
     "ename": "",
     "evalue": "",
     "output_type": "error",
     "traceback": [
      "\u001b[1;31mThe kernel failed to start as the Python Environment 'Python 3.10.12' is no longer available. Consider selecting another kernel or refreshing the list of Python Environments."
     ]
    }
   ],
   "source": [
    "for name, ent_type in ents:\n",
    "    entity_books[category_directory_map[ent_type]].append(name)\n",
    "for k, v in entity_books.items():\n",
    "    entity_books[k] = sorted(list(set(v)))\n",
    "\n",
    "print([(k, len(v)) for k,v in entity_books.items()])\n",
    "print([(k, len(set(v))) for k,v in entity_books.items()])\n",
    "\n"
   ]
  },
  {
   "cell_type": "code",
   "execution_count": null,
   "metadata": {},
   "outputs": [
    {
     "ename": "",
     "evalue": "",
     "output_type": "error",
     "traceback": [
      "\u001b[1;31mThe kernel failed to start as the Python Environment 'Python 3.10.12' is no longer available. Consider selecting another kernel or refreshing the list of Python Environments."
     ]
    }
   ],
   "source": [
    "write_entity_books(entity_books=entity_books, parent_dir=Path(\"/home/tita/epadd-appraisal/user/data/sessions/EntityBooks\"))"
   ]
  }
 ],
 "metadata": {
  "kernelspec": {
   "display_name": "venv",
   "language": "python",
   "name": "python3"
  },
  "language_info": {
   "codemirror_mode": {
    "name": "ipython",
    "version": 3
   },
   "file_extension": ".py",
   "mimetype": "text/x-python",
   "name": "python",
   "nbconvert_exporter": "python",
   "pygments_lexer": "ipython3",
   "version": "3.10.12"
  }
 },
 "nbformat": 4,
 "nbformat_minor": 2
}
